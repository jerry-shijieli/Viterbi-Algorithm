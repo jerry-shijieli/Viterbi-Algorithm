{
 "cells": [
  {
   "cell_type": "markdown",
   "metadata": {},
   "source": [
    "Viterbi algorithm to calculate the most probable path in a 3-state Hidden Markov Model.\n",
    "\n",
    "Reference: [Viterbi Algorithm on Wikipedia](https://en.wikipedia.org/wiki/Viterbi_algorithm)"
   ]
  },
  {
   "cell_type": "code",
   "execution_count": 1,
   "metadata": {
    "collapsed": true
   },
   "outputs": [],
   "source": [
    "import numpy as np\n",
    "import csv"
   ]
  },
  {
   "cell_type": "code",
   "execution_count": 2,
   "metadata": {
    "collapsed": true
   },
   "outputs": [],
   "source": [
    "# Observations\n",
    "observations = [1,3,2,4,4,5] # O_i\n",
    "# Emission matrix\n",
    "emissions = [\n",
    "    [0.4, 0, 0],\n",
    "    [0.2, 0.2, 0.2],\n",
    "    [0.2, 0.6, 0.1],\n",
    "    [0.1, 0.1, 0.4],\n",
    "    [0.1, 0.1, 0.3]\n",
    "] # emission[X][Z] = P(X|Z)\n",
    "# State transition matrix\n",
    "transitions = [\n",
    "    [0.6, 0.4, 0],\n",
    "    [0, 0.2, 0.8],\n",
    "    [0, 0, 0.3]\n",
    "] # transitions[Zi][Zj] = P(Zi -> Zj)\n",
    "# initial state\n",
    "initState = [1.0, 0, 0] # assume at Z1"
   ]
  },
  {
   "cell_type": "code",
   "execution_count": 3,
   "metadata": {
    "collapsed": true
   },
   "outputs": [],
   "source": [
    "def viterbi(observations, emissions, transitions, initState):\n",
    "    dimZ = len(transitions) # dimension of states space\n",
    "    dimX = len(emissions) # dimension of observations space\n",
    "    numO = len(observations) # path length of observation sequence\n",
    "    T1 = np.matrix([[0.0 for _ in range(numO)] * dimZ], dtype=np.float64).reshape([dimZ, numO]) # matrix of observation probability \n",
    "    T2 = np.matrix([[0.0 for _ in range(numO)] * dimZ], dtype=np.int32).reshape([dimZ, numO]) # matrix of most likely previous states \n",
    "    # initialization time t=0\n",
    "    transitions = np.matrix(transitions, dtype=np.float64)\n",
    "    emissions = np.matrix(emissions, dtype=np.float64)\n",
    "    for i in range(len(initState)):\n",
    "        T1[i, 0] = initState[i] * emissions[observations[0]-1, i] \n",
    "        T2[i, 0] = np.argmax(initState)+1\n",
    "    # Dynamically compute the most prob path\n",
    "    for s in xrange(1, numO):\n",
    "        obs = observations[s]\n",
    "        for z in xrange(dimZ):\n",
    "            prevO = np.asarray(T1.transpose()[s-1], dtype=np.float64)\n",
    "            transZ = np.asarray(transitions.transpose()[z], dtype=np.float64)\n",
    "            T1[z, s] = emissions[obs-1, z] * np.max(prevO * transZ)\n",
    "            T2[z, s] = np.argmax(prevO * transZ)+1;\n",
    "    # Backtrack the most prob states\n",
    "    states = [-1 for _ in range(numO)]\n",
    "    z = np.argmax(np.asarray(T1.transpose()[numO-1], dtype=np.float64))+1\n",
    "    states[numO-1] = z\n",
    "    for s in range(numO-1, 0, -1):\n",
    "        z = T2[z-1, s]\n",
    "        states[s-1] = z\n",
    "        \n",
    "    return T1, T2, states"
   ]
  },
  {
   "cell_type": "code",
   "execution_count": 4,
   "metadata": {
    "collapsed": true
   },
   "outputs": [],
   "source": [
    "def saveResults(prob, trans, path):\n",
    "    with open(\"P2_solution.csv\", 'wb') as csvfile:\n",
    "        cwriter = csv.writer(csvfile, delimiter=',', quotechar=' ', quoting=csv.QUOTE_MINIMAL)\n",
    "        cwriter.writerow([\"Probability on each Observation with State Z (row) vs Observations (column): \\n\"])\n",
    "        header = ['', 'O1', 'O3', 'O2', 'O4', 'O4', 'O5']\n",
    "        cwriter.writerow(header)\n",
    "        index = 0\n",
    "        for term in prob.tolist():\n",
    "            index += 1\n",
    "            term = [\"Z\"+str(index)] + term\n",
    "            cwriter.writerow(term)\n",
    "        cwriter.writerow('\\n')\n",
    "        cwriter.writerow([\"Transition Z(t-1) -> Z(t) with Previous State Z (row) vs Time (column): \\n\"])\n",
    "        cwriter.writerow(header)\n",
    "        index = 0\n",
    "        for term in trans.tolist():\n",
    "            index += 1\n",
    "            term = [\"Z\"+str(index)] + term\n",
    "            cwriter.writerow(term)\n",
    "        cwriter.writerow('\\n')\n",
    "        cwriter.writerow([\"Most probable path through the states for the observed sequence: \"])\n",
    "        result = \"\"\n",
    "        for i in range(len(path)):\n",
    "            if i==len(path)-1 :\n",
    "                result += 'Z'+str(path[i])\n",
    "            else:\n",
    "                result += 'Z'+str(path[i])+\" -> \"\n",
    "        cwriter.writerow([result])"
   ]
  },
  {
   "cell_type": "code",
   "execution_count": 5,
   "metadata": {
    "collapsed": true
   },
   "outputs": [],
   "source": [
    "def main():\n",
    "    Probability, Transition, Path = viterbi(observations, emissions, transitions, initState)\n",
    "    print \"Probability on each Observation with State Z (row) vs Observations (column): \"\n",
    "    print Probability\n",
    "    print \"Transition Z(t-1) -> Z(t) with Previous State Z (row) vs Time (column): \"\n",
    "    print Transition\n",
    "    print \"Most probable path through the states for the observed sequence: \"\n",
    "    print Path\n",
    "    saveResults(Probability, Transition, Path)"
   ]
  },
  {
   "cell_type": "code",
   "execution_count": 6,
   "metadata": {
    "collapsed": false
   },
   "outputs": [
    {
     "name": "stdout",
     "output_type": "stream",
     "text": [
      "Probability on each Observation with State Z (row) vs Observations (column): \n",
      "[[  4.00000000e-01   4.80000000e-02   5.76000000e-03   3.45600000e-04\n",
      "    2.07360000e-05   1.24416000e-06]\n",
      " [  0.00000000e+00   9.60000000e-02   3.84000000e-03   2.30400000e-04\n",
      "    1.38240000e-05   8.29440000e-07]\n",
      " [  0.00000000e+00   0.00000000e+00   1.53600000e-02   1.84320000e-03\n",
      "    2.21184000e-04   1.99065600e-05]]\n",
      "Transition Z(t-1) -> Z(t) with Previous State Z (row) vs Time (column): \n",
      "[[1 1 1 1 1 1]\n",
      " [1 1 2 1 1 1]\n",
      " [1 1 2 3 3 3]]\n",
      "Most probable path through the states for the observed sequence: \n",
      "[1, 2, 3, 3, 3, 3]\n"
     ]
    }
   ],
   "source": [
    "if __name__ == \"__main__\":\n",
    "    main()"
   ]
  }
 ],
 "metadata": {
  "kernelspec": {
   "display_name": "Python 2",
   "language": "python",
   "name": "python2"
  },
  "language_info": {
   "codemirror_mode": {
    "name": "ipython",
    "version": 2
   },
   "file_extension": ".py",
   "mimetype": "text/x-python",
   "name": "python",
   "nbconvert_exporter": "python",
   "pygments_lexer": "ipython2",
   "version": "2.7.12"
  }
 },
 "nbformat": 4,
 "nbformat_minor": 0
}
